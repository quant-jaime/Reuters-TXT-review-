{
 "cells": [
  {
   "cell_type": "code",
   "execution_count": 56,
   "metadata": {},
   "outputs": [],
   "source": [
    "from keras.datasets import reuters"
   ]
  },
  {
   "cell_type": "code",
   "execution_count": 57,
   "metadata": {},
   "outputs": [],
   "source": [
    "# classifying newsires: a multiclass classification \n",
    "# we'll build a NN to classify Reuters newsires into 46 mutually topics\n",
    "# the problem is more single-label, multiclass classification \n",
    "# 46 different topics, each topic has atleast 10 examples in the training set \n"
   ]
  },
  {
   "cell_type": "code",
   "execution_count": 58,
   "metadata": {},
   "outputs": [],
   "source": [
    "# num_words = 10000, restricts the data to 10000 most frequent words in the data \n",
    "\n",
    "(train_data, train_labels), (test_data, test_labels) = reuters.load_data(num_words=10000)\n"
   ]
  },
  {
   "cell_type": "code",
   "execution_count": 59,
   "metadata": {},
   "outputs": [
    {
     "data": {
      "text/plain": [
       "8982"
      ]
     },
     "execution_count": 59,
     "metadata": {},
     "output_type": "execute_result"
    }
   ],
   "source": [
    "# 8982 training examples\n",
    "len(train_data)"
   ]
  },
  {
   "cell_type": "code",
   "execution_count": 60,
   "metadata": {},
   "outputs": [
    {
     "data": {
      "text/plain": [
       "2246"
      ]
     },
     "execution_count": 60,
     "metadata": {},
     "output_type": "execute_result"
    }
   ],
   "source": [
    "# 2246 testing examples \n",
    "len(test_data)\n"
   ]
  },
  {
   "cell_type": "code",
   "execution_count": 61,
   "metadata": {},
   "outputs": [
    {
     "data": {
      "text/plain": [
       "[1,\n",
       " 245,\n",
       " 273,\n",
       " 207,\n",
       " 156,\n",
       " 53,\n",
       " 74,\n",
       " 160,\n",
       " 26,\n",
       " 14,\n",
       " 46,\n",
       " 296,\n",
       " 26,\n",
       " 39,\n",
       " 74,\n",
       " 2979,\n",
       " 3554,\n",
       " 14,\n",
       " 46,\n",
       " 4689,\n",
       " 4329,\n",
       " 86,\n",
       " 61,\n",
       " 3499,\n",
       " 4795,\n",
       " 14,\n",
       " 61,\n",
       " 451,\n",
       " 4329,\n",
       " 17,\n",
       " 12]"
      ]
     },
     "execution_count": 61,
     "metadata": {},
     "output_type": "execute_result"
    }
   ],
   "source": [
    "train_data[10]"
   ]
  },
  {
   "cell_type": "code",
   "execution_count": 62,
   "metadata": {},
   "outputs": [],
   "source": [
    "#preparing the data\n",
    "# by vectorizing the data \n",
    "\n",
    "import numpy as np \n",
    "\n",
    "def vectorize_sequences(sequences, dimension = 10000):\n",
    "    results = np.zeros((len(sequences), dimension))\n",
    "    for i, sequences in enumerate(sequences):\n",
    "        results[i, sequences] = 1\n",
    "    return results\n",
    "\n",
    "x_train = vectorize_sequences(train_data)\n",
    "x_test = vectorize_sequences(test_data)\n"
   ]
  },
  {
   "cell_type": "code",
   "execution_count": 63,
   "metadata": {},
   "outputs": [],
   "source": [
    "# one-hot encoding is widely used format for categorical data\n",
    "# also called categorical encoding\n",
    "\n",
    "def to_one_hot(labels, dimension = 46):\n",
    "    results = np.zeros((len(labels), dimension))\n",
    "    for i, label in enumerate(labels):\n",
    "        results[i, label] = 1.\n",
    "        return results \n",
    "    \n",
    "one_hot_train_labels = to_one_hot(train_labels)\n",
    "one_hot_test_labels = to_one_hot(test_labels)"
   ]
  },
  {
   "cell_type": "code",
   "execution_count": 64,
   "metadata": {},
   "outputs": [],
   "source": [
    "#alternative way for categorical encoding \n",
    "\n",
    "from keras.utils.np_utils import to_categorical \n",
    "\n",
    "one_hot_train_labels = to_categorical(train_labels)\n",
    "one_hot_test_labels = to_categorical(test_labels)"
   ]
  },
  {
   "cell_type": "code",
   "execution_count": 65,
   "metadata": {},
   "outputs": [],
   "source": [
    "#### MODEL DEFINITION\n",
    "# you want to increase dimensional space to 64 units \n",
    "# with smaller units like 16, it can drop relevant information \n",
    "# for this reason, ill use larger layers, 64 units \n",
    "\n",
    "from keras import models \n",
    "from keras import layers \n",
    "\n",
    "model = models.Sequential()\n",
    "\n",
    "# 3 layers in our NN\n",
    "# first, 2 layers have 64 dimensional space, and relu activation function \n",
    "# the last layer, is our output with 46 units (categories)\n",
    "# for each input sample, the network will output 1 46 -dimensional vector\n",
    "# each entry in the vector will encode a diff output class\n",
    "\n",
    "model.add(layers.Dense(64, activation = 'relu', input_shape = (10000,)))\n",
    "model.add(layers.Dense(64, activation = 'relu'))\n",
    "model.add(layers.Dense(46, activation = 'softmax'))"
   ]
  },
  {
   "cell_type": "code",
   "execution_count": 66,
   "metadata": {},
   "outputs": [],
   "source": [
    "#### COMPILING THE MODEL \n",
    "\n",
    "# best loss function is the categorical_crossentroy, which measures the distnace \n",
    "#between the two prob distributions\n",
    "# By min the distance between the two distributions, you train the network to output\n",
    "#something as close as possible to the true labels\n",
    "\n",
    "model.compile(optimizer = 'rmsprop', \n",
    "              loss = 'categorical_crossentropy', \n",
    "              metrics = ['accuracy'])\n"
   ]
  },
  {
   "cell_type": "code",
   "execution_count": 67,
   "metadata": {},
   "outputs": [],
   "source": [
    "#### SETTING ASIDE A VALIDATION SET \n",
    "# setting aside 1,000 samples in the training data to use a validation set\n",
    "\n",
    "x_val = x_train[:1000]\n",
    "partial_x_train = x_train[1000:]\n",
    "\n",
    "y_val = one_hot_train_labels[:1000]\n",
    "partial_y_train = one_hot_train_labels[1000:]\n"
   ]
  },
  {
   "cell_type": "code",
   "execution_count": 68,
   "metadata": {},
   "outputs": [
    {
     "name": "stdout",
     "output_type": "stream",
     "text": [
      "Train on 7982 samples, validate on 1000 samples\n",
      "Epoch 1/20\n",
      "7982/7982 [==============================] - 1s 151us/step - loss: 2.4721 - accuracy: 0.4971 - val_loss: 1.6810 - val_accuracy: 0.6410\n",
      "Epoch 2/20\n",
      "7982/7982 [==============================] - 1s 87us/step - loss: 1.4000 - accuracy: 0.6962 - val_loss: 1.3199 - val_accuracy: 0.7150\n",
      "Epoch 3/20\n",
      "7982/7982 [==============================] - 1s 86us/step - loss: 1.0683 - accuracy: 0.7635 - val_loss: 1.1394 - val_accuracy: 0.7450\n",
      "Epoch 4/20\n",
      "7982/7982 [==============================] - 1s 84us/step - loss: 0.8397 - accuracy: 0.8128 - val_loss: 1.0370 - val_accuracy: 0.7660\n",
      "Epoch 5/20\n",
      "7982/7982 [==============================] - 1s 83us/step - loss: 0.6761 - accuracy: 0.8552 - val_loss: 0.9775 - val_accuracy: 0.7900\n",
      "Epoch 6/20\n",
      "7982/7982 [==============================] - 1s 83us/step - loss: 0.5394 - accuracy: 0.8865 - val_loss: 0.9318 - val_accuracy: 0.7960\n",
      "Epoch 7/20\n",
      "7982/7982 [==============================] - 1s 83us/step - loss: 0.4319 - accuracy: 0.9113 - val_loss: 0.9153 - val_accuracy: 0.7960\n",
      "Epoch 8/20\n",
      "7982/7982 [==============================] - 1s 83us/step - loss: 0.3510 - accuracy: 0.9262 - val_loss: 0.9196 - val_accuracy: 0.8030\n",
      "Epoch 9/20\n",
      "7982/7982 [==============================] - 1s 83us/step - loss: 0.2930 - accuracy: 0.9369 - val_loss: 0.8895 - val_accuracy: 0.8180\n",
      "Epoch 10/20\n",
      "7982/7982 [==============================] - 1s 83us/step - loss: 0.2458 - accuracy: 0.9426 - val_loss: 0.9167 - val_accuracy: 0.8070\n",
      "Epoch 11/20\n",
      "7982/7982 [==============================] - 1s 84us/step - loss: 0.2129 - accuracy: 0.9468 - val_loss: 0.9714 - val_accuracy: 0.7890\n",
      "Epoch 12/20\n",
      "7982/7982 [==============================] - 1s 84us/step - loss: 0.1876 - accuracy: 0.9500 - val_loss: 0.9398 - val_accuracy: 0.8060\n",
      "Epoch 13/20\n",
      "7982/7982 [==============================] - 1s 83us/step - loss: 0.1635 - accuracy: 0.9509 - val_loss: 0.9681 - val_accuracy: 0.8040\n",
      "Epoch 14/20\n",
      "7982/7982 [==============================] - 1s 84us/step - loss: 0.1523 - accuracy: 0.9558 - val_loss: 0.9646 - val_accuracy: 0.8040\n",
      "Epoch 15/20\n",
      "7982/7982 [==============================] - 1s 84us/step - loss: 0.1429 - accuracy: 0.9550 - val_loss: 0.9750 - val_accuracy: 0.8070\n",
      "Epoch 16/20\n",
      "7982/7982 [==============================] - 1s 83us/step - loss: 0.1309 - accuracy: 0.9555 - val_loss: 0.9823 - val_accuracy: 0.8080\n",
      "Epoch 17/20\n",
      "7982/7982 [==============================] - 1s 85us/step - loss: 0.1256 - accuracy: 0.9557 - val_loss: 1.0271 - val_accuracy: 0.8080\n",
      "Epoch 18/20\n",
      "7982/7982 [==============================] - 1s 84us/step - loss: 0.1184 - accuracy: 0.9585 - val_loss: 1.0374 - val_accuracy: 0.8080\n",
      "Epoch 19/20\n",
      "7982/7982 [==============================] - 1s 88us/step - loss: 0.1158 - accuracy: 0.9592 - val_loss: 1.0933 - val_accuracy: 0.7950\n",
      "Epoch 20/20\n",
      "7982/7982 [==============================] - 1s 89us/step - loss: 0.1101 - accuracy: 0.9577 - val_loss: 1.0505 - val_accuracy: 0.8010\n"
     ]
    }
   ],
   "source": [
    "##### TRAINING THE MODEL \n",
    "# lets define epochs to 20\n",
    "\n",
    "history = model.fit(partial_x_train,\n",
    "                    partial_y_train,\n",
    "                    epochs = 20, \n",
    "                    batch_size = 512, \n",
    "                    validation_data = (x_val, y_val))"
   ]
  },
  {
   "cell_type": "code",
   "execution_count": 69,
   "metadata": {},
   "outputs": [
    {
     "data": {
      "text/plain": [
       "7982"
      ]
     },
     "execution_count": 69,
     "metadata": {},
     "output_type": "execute_result"
    }
   ],
   "source": [
    "len(partial_x_train)"
   ]
  },
  {
   "cell_type": "code",
   "execution_count": 70,
   "metadata": {},
   "outputs": [
    {
     "data": {
      "text/plain": [
       "1000"
      ]
     },
     "execution_count": 70,
     "metadata": {},
     "output_type": "execute_result"
    }
   ],
   "source": [
    "len(x_val)"
   ]
  },
  {
   "cell_type": "code",
   "execution_count": 71,
   "metadata": {},
   "outputs": [
    {
     "data": {
      "image/png": "[encoded data removed]",
      "text/plain": [
       "<Figure size 432x288 with 1 Axes>"
      ]
     },
     "metadata": {
      "needs_background": "light"
     },
     "output_type": "display_data"
    }
   ],
   "source": [
    "#### PLOTTING THE TRAINING AND VALIDATION LOSS \n",
    "\n",
    "import matplotlib.pyplot as plt \n",
    "\n",
    "loss = history.history['loss']\n",
    "val_loss = history.history['val_loss']\n",
    "\n",
    "epochs = range(1, len(loss) + 1)\n",
    "\n",
    "plt.plot(epochs, loss, 'bo', label = 'Training Loss')\n",
    "plt.plot(epochs, val_loss, 'b', label = 'Validation Loss')\n",
    "plt.legend()\n",
    "plt.show()"
   ]
  },
  {
   "cell_type": "code",
   "execution_count": 72,
   "metadata": {},
   "outputs": [
    {
     "data": {
      "image/png": "[encoded data removed]",
      "text/plain": [
       "<Figure size 432x288 with 1 Axes>"
      ]
     },
     "metadata": {
      "needs_background": "light"
     },
     "output_type": "display_data"
    }
   ],
   "source": [
    "##### PLOTTING THE TRAINING AND VALIDATION ACCURACY \n",
    "\n",
    "### clears the figure \n",
    "\n",
    "a = history.history['accuracy']\n",
    "val_acc = history.history['val_accuracy']\n",
    "\n",
    "plt.plot(epochs, a, 'bo', label = 'Training acc')\n",
    "plt.plot(epochs, val_acc, 'b', label = 'Validation acc')\n",
    "plt.legend()\n",
    "plt.show()"
   ]
  },
  {
   "cell_type": "code",
   "execution_count": 73,
   "metadata": {},
   "outputs": [],
   "source": [
    "# the model above, seenes like the the netwrok begins to overfit after nine epochs\n",
    "# lets train a new network from scratch "
   ]
  },
  {
   "cell_type": "code",
   "execution_count": 77,
   "metadata": {},
   "outputs": [
    {
     "name": "stdout",
     "output_type": "stream",
     "text": [
      "Train on 7982 samples, validate on 1000 samples\n",
      "Epoch 1/9\n",
      "7982/7982 [==============================] - 1s 114us/step - loss: 2.6321 - accuracy: 0.5157 - val_loss: 1.7435 - val_accuracy: 0.6530\n",
      "Epoch 2/9\n",
      "7982/7982 [==============================] - 1s 84us/step - loss: 1.4353 - accuracy: 0.7080 - val_loss: 1.3313 - val_accuracy: 0.7040\n",
      "Epoch 3/9\n",
      "7982/7982 [==============================] - 1s 83us/step - loss: 1.0623 - accuracy: 0.7702 - val_loss: 1.1449 - val_accuracy: 0.7560\n",
      "Epoch 4/9\n",
      "7982/7982 [==============================] - 1s 85us/step - loss: 0.8301 - accuracy: 0.8259 - val_loss: 1.0454 - val_accuracy: 0.7780\n",
      "Epoch 5/9\n",
      "7982/7982 [==============================] - 1s 91us/step - loss: 0.6513 - accuracy: 0.8609 - val_loss: 0.9664 - val_accuracy: 0.8050\n",
      "Epoch 6/9\n",
      "7982/7982 [==============================] - 1s 89us/step - loss: 0.5172 - accuracy: 0.8920 - val_loss: 0.9113 - val_accuracy: 0.8130\n",
      "Epoch 7/9\n",
      "7982/7982 [==============================] - 1s 85us/step - loss: 0.4165 - accuracy: 0.9128 - val_loss: 0.8984 - val_accuracy: 0.8100\n",
      "Epoch 8/9\n",
      "7982/7982 [==============================] - 1s 85us/step - loss: 0.3326 - accuracy: 0.9310 - val_loss: 0.9146 - val_accuracy: 0.8060\n",
      "Epoch 9/9\n",
      "7982/7982 [==============================] - 1s 85us/step - loss: 0.2794 - accuracy: 0.9380 - val_loss: 0.9078 - val_accuracy: 0.8120\n",
      "2246/2246 [==============================] - 0s 103us/step\n"
     ]
    }
   ],
   "source": [
    "#### RETRAINING A MODEL FROM SCRATCH \n",
    "\n",
    "#settting up the architecture of the NN\n",
    "model = models.Sequential()\n",
    "model.add(layers.Dense(64, activation = 'relu', input_shape = (10000,)))\n",
    "model.add(layers.Dense(64, activation = 'relu'))\n",
    "model.add(layers.Dense(46, activation = 'softmax'))\n",
    "\n",
    "\n",
    "# defining the paramets (loss and optimizer)\n",
    "model.compile(optimizer = 'rmsprop',\n",
    "              loss = 'categorical_crossentropy', \n",
    "              metrics = ['accuracy'])\n",
    "\n",
    "#training the model\n",
    "model.fit(partial_x_train,\n",
    "          partial_y_train, \n",
    "          epochs = 9,\n",
    "          batch_size = 512,\n",
    "          validation_data = (x_val, y_val))\n",
    "\n",
    "results = model.evaluate(x_test, one_hot_test_labels)"
   ]
  },
  {
   "cell_type": "code",
   "execution_count": 78,
   "metadata": {},
   "outputs": [
    {
     "data": {
      "text/plain": [
       "[0.9869090126543733, 0.7871772050857544]"
      ]
     },
     "execution_count": 78,
     "metadata": {},
     "output_type": "execute_result"
    }
   ],
   "source": [
    "# it reaches an accuracy of nearly 80% \n",
    "results"
   ]
  },
  {
   "cell_type": "code",
   "execution_count": 80,
   "metadata": {},
   "outputs": [
    {
     "data": {
      "text/plain": [
       "0.18655387355298308"
      ]
     },
     "execution_count": 80,
     "metadata": {},
     "output_type": "execute_result"
    }
   ],
   "source": [
    "# with binary classification problem, the accuracy reached by a purely randome classifier would be 50%\n",
    "# in this case, its closer to 19%\n",
    "import copy\n",
    "test_labels_copy = copy.copy(test_labels)\n",
    "np.random.shuffle(test_labels_copy)\n",
    "hits_array = np.array(test_labels) == np.array(test_labels_copy)\n",
    "float(np.sum(hits_array)) / len(test_labels)"
   ]
  },
  {
   "cell_type": "code",
   "execution_count": 81,
   "metadata": {},
   "outputs": [],
   "source": [
    "#### GENERATING PREDICTIONS FOR NEW DATA \n",
    "## lets verify that the predict method of the model instance returns a prob distribution over\n",
    "# all 46 topics, lets generate topic predictions for all the test data\n",
    "\n",
    "predictions = model.predict(x_test)"
   ]
  },
  {
   "cell_type": "code",
   "execution_count": 82,
   "metadata": {},
   "outputs": [
    {
     "name": "stdout",
     "output_type": "stream",
     "text": [
      "[[1.80384217e-04 5.51297271e-05 5.34924002e-05 ... 4.53110169e-06\n",
      "  3.17472109e-06 6.90075831e-05]\n",
      " [2.75524752e-03 1.74687710e-02 8.55129445e-04 ... 1.16045109e-03\n",
      "  1.13559590e-05 3.35382310e-06]\n",
      " [2.02228897e-03 7.37049222e-01 6.91833906e-03 ... 1.52662897e-03\n",
      "  2.90889846e-04 4.21143923e-04]\n",
      " ...\n",
      " [5.51811208e-05 2.67748110e-04 1.53456989e-04 ... 1.41322071e-05\n",
      "  1.12404969e-05 1.04041166e-04]\n",
      " [7.39486795e-03 1.80083126e-01 5.48448274e-03 ... 5.49850753e-04\n",
      "  4.44608042e-04 1.88416860e-03]\n",
      " [5.08833968e-04 4.98707533e-01 3.57030444e-02 ... 3.16461781e-03\n",
      "  8.71447148e-04 3.52810923e-04]]\n"
     ]
    }
   ],
   "source": [
    "print(predictions)"
   ]
  },
  {
   "cell_type": "code",
   "execution_count": 83,
   "metadata": {},
   "outputs": [
    {
     "data": {
      "text/plain": [
       "(46,)"
      ]
     },
     "execution_count": 83,
     "metadata": {},
     "output_type": "execute_result"
    }
   ],
   "source": [
    "predictions[0].shape"
   ]
  },
  {
   "cell_type": "code",
   "execution_count": 84,
   "metadata": {},
   "outputs": [
    {
     "data": {
      "text/plain": [
       "0.9999998"
      ]
     },
     "execution_count": 84,
     "metadata": {},
     "output_type": "execute_result"
    }
   ],
   "source": [
    "## the coefficient in the vector should sum close to 1\n",
    "np.sum(predictions[0])\n"
   ]
  },
  {
   "cell_type": "code",
   "execution_count": 85,
   "metadata": {},
   "outputs": [
    {
     "data": {
      "text/plain": [
       "3"
      ]
     },
     "execution_count": 85,
     "metadata": {},
     "output_type": "execute_result"
    }
   ],
   "source": [
    "## largest entry is the predicted class, with the highest probability \n",
    "np.argmax(predictions[0])"
   ]
  },
  {
   "cell_type": "code",
   "execution_count": 86,
   "metadata": {},
   "outputs": [],
   "source": [
    "# lets encode the labels as integer tensor\n",
    "\n",
    "y_train = np.array(train_labels)\n",
    "y_test = np.array(test_labels)"
   ]
  },
  {
   "cell_type": "code",
   "execution_count": 88,
   "metadata": {},
   "outputs": [],
   "source": [
    "# with integer labels, we change our loss function to sparse_categorical_crossentropy\n",
    "# still mathematically the same, just different interface \n",
    "\n",
    "model.compile(optimizer = 'rmsprop',\n",
    "             loss = 'sparse_categorical_crossentropy',\n",
    "             metrics = ['accuracy'])"
   ]
  },
  {
   "cell_type": "code",
   "execution_count": 90,
   "metadata": {},
   "outputs": [
    {
     "name": "stdout",
     "output_type": "stream",
     "text": [
      "Train on 7982 samples, validate on 1000 samples\n",
      "Epoch 1/9\n",
      "7982/7982 [==============================] - 1s 161us/step - loss: 1.7309 - accuracy: 0.6429 - val_loss: 1.1805 - val_accuracy: 0.7360\n",
      "Epoch 2/9\n",
      "7982/7982 [==============================] - 1s 127us/step - loss: 0.9161 - accuracy: 0.7993 - val_loss: 0.9817 - val_accuracy: 0.7680\n",
      "Epoch 3/9\n",
      "7982/7982 [==============================] - 1s 123us/step - loss: 0.6046 - accuracy: 0.8672 - val_loss: 0.8696 - val_accuracy: 0.8070\n",
      "Epoch 4/9\n",
      "7982/7982 [==============================] - 1s 125us/step - loss: 0.4068 - accuracy: 0.9097 - val_loss: 0.8847 - val_accuracy: 0.8090\n",
      "Epoch 5/9\n",
      "7982/7982 [==============================] - 1s 124us/step - loss: 0.2936 - accuracy: 0.9340 - val_loss: 1.0360 - val_accuracy: 0.7790\n",
      "Epoch 6/9\n",
      "7982/7982 [==============================] - 1s 124us/step - loss: 0.2307 - accuracy: 0.9445 - val_loss: 0.9173 - val_accuracy: 0.8100\n",
      "Epoch 7/9\n",
      "7982/7982 [==============================] - 1s 124us/step - loss: 0.1935 - accuracy: 0.9501 - val_loss: 0.9071 - val_accuracy: 0.8170\n",
      "Epoch 8/9\n",
      "7982/7982 [==============================] - 1s 125us/step - loss: 0.1676 - accuracy: 0.9520 - val_loss: 0.9761 - val_accuracy: 0.8140\n",
      "Epoch 9/9\n",
      "7982/7982 [==============================] - 1s 124us/step - loss: 0.1531 - accuracy: 0.9545 - val_loss: 1.0367 - val_accuracy: 0.8090\n"
     ]
    },
    {
     "data": {
      "text/plain": [
       "<keras.callbacks.callbacks.History at 0xb348f2d30>"
      ]
     },
     "execution_count": 90,
     "metadata": {},
     "output_type": "execute_result"
    }
   ],
   "source": [
    "### TESING WITH 4 dimensionals on our second layer \n",
    "\n",
    "model = models.Sequential()\n",
    "model.add(layers.Dense(64, activation = 'relu', input_shape = (10000,)))\n",
    "model.add(layers.Dense(128, activation = 'relu'))\n",
    "model.add(layers.Dense(46, activation = 'softmax'))\n",
    "\n",
    "model.compile(optimizer = 'rmsprop',\n",
    "              loss = 'categorical_crossentropy',\n",
    "              metrics = ['accuracy'])\n",
    "\n",
    "## training the data \n",
    "\n",
    "model.fit(partial_x_train,\n",
    "          partial_y_train,\n",
    "          epochs = 9,\n",
    "          batch_size = 128,\n",
    "          validation_data = (x_val, y_val))"
   ]
  },
  {
   "cell_type": "code",
   "execution_count": 91,
   "metadata": {},
   "outputs": [],
   "source": [
    "## validation accuracy peaks at 71%, 8% points where drop since we used a dimension less than the last layer \n",
    "## the model tried to compress alof of information into an intermediate space that is too low dimensional "
   ]
  },
  {
   "cell_type": "code",
   "execution_count": null,
   "metadata": {},
   "outputs": [],
   "source": [
    "#### with a multiclass classification problem, the network should end with a \n",
    "# softmax activation function so that it will output a prob distribution over the N output classes\n",
    "\n",
    "# always use categorical crossentropy as the loss function. to min the distance between the pro dist\n",
    "# output by the network and the true dist of the targets\n",
    "\n",
    "# two ways to handle labels in multiclass classification\n",
    "# 1. encoding the labels via categorical encoding -one_hot_encoding\n",
    "# 2. encoding the labels as integers using sparse_categorical_crossentropy loss function\n",
    "\n"
   ]
  }
 ],
 "metadata": {
  "kernelspec": {
   "display_name": "Python 3",
   "language": "python",
   "name": "python3"
  },
  "language_info": {
   "codemirror_mode": {
    "name": "ipython",
    "version": 3
   },
   "file_extension": ".py",
   "mimetype": "text/x-python",
   "name": "python",
   "nbconvert_exporter": "python",
   "pygments_lexer": "ipython3",
   "version": "3.7.0"
  }
 },
 "nbformat": 4,
 "nbformat_minor": 2
}
